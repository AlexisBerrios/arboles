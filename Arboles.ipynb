{
  "nbformat": 4,
  "nbformat_minor": 0,
  "metadata": {
    "colab": {
      "name": "Arboles.ipynb",
      "provenance": []
    },
    "kernelspec": {
      "name": "python3",
      "display_name": "Python 3"
    },
    "language_info": {
      "name": "python"
    }
  },
  "cells": [
    {
      "cell_type": "code",
      "metadata": {
        "id": "sa_SQbFMjDic"
      },
      "source": [
        "class NodoBinario :\n",
        "    def __init__(self, value, left = None, right = None) :\n",
        "        self.data = value\n",
        "        self.left = left\n",
        "        self.right = right\n",
        "\n",
        "class NodoTernario :\n",
        "    def __init__(self, value, left = None, center = None, right = None) :\n",
        "        self.data = value\n",
        "        self.left = left\n",
        "        self.center = center\n",
        "        self.right = right"
      ],
      "execution_count": 1,
      "outputs": []
    },
    {
      "cell_type": "code",
      "metadata": {
        "colab": {
          "base_uri": "https://localhost:8080/"
        },
        "id": "aw6ZkBn2jHd0",
        "outputId": "4a651731-28c9-4b1c-f2d6-f26ba51326cb"
      },
      "source": [
        "arbol1 = NodoBinario(\"R\", NodoBinario(\"C\"), NodoBinario(\"H\"))\n",
        "print(arbol1.right.data)\n",
        "\n",
        "arbol2 = NodoTernario(4, NodoTernario(3, NodoTernario(5, left = NodoTernario(2)), NodoTernario(5), NodoTernario(2)), None, NodoTernario(5))\n",
        "print(arbol2.left.right.data)\n",
        "print(arbol2.data)\n",
        "print(arbol2.left.left.left.data)\n",
        "\n",
        "print(\"\\nForma 2 de hacerlo\")\n",
        "aux = arbol2\n",
        "while (aux.left != None) :\n",
        "    aux = aux.left\n",
        "print(aux.data)"
      ],
      "execution_count": 6,
      "outputs": [
        {
          "output_type": "stream",
          "name": "stdout",
          "text": [
            "H\n",
            "2\n",
            "4\n",
            "2\n",
            "\n",
            "Forma 2 de hacerlo\n",
            "2\n"
          ]
        }
      ]
    },
    {
      "cell_type": "code",
      "metadata": {
        "colab": {
          "base_uri": "https://localhost:8080/"
        },
        "id": "1aH-wd8JjJIE",
        "outputId": "1e532328-ead0-4e5a-a25d-9451296d64ab"
      },
      "source": [
        "root = NodoBinario(\"Santi\", None, NodoBinario(\"Jesus\", NodoBinario(\"Pedro\", None, NodoBinario(\"PedroJr\"))))\n",
        "print(root.data)\n",
        "print(root.right.data)\n",
        "print(root.right.left.data)\n",
        "print(root.right.left.right.data)"
      ],
      "execution_count": 8,
      "outputs": [
        {
          "output_type": "stream",
          "name": "stdout",
          "text": [
            "Santi\n",
            "Jesus\n",
            "Pedro\n",
            "PedroJr\n"
          ]
        }
      ]
    }
  ]
}